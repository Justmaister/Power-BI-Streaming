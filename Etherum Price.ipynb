{
 "cells": [
  {
   "cell_type": "code",
   "execution_count": 1,
   "metadata": {},
   "outputs": [
    {
     "ename": "KeyboardInterrupt",
     "evalue": "",
     "output_type": "error",
     "traceback": [
      "\u001b[1;31m---------------------------------------------------------------------------\u001b[0m",
      "\u001b[1;31mKeyboardInterrupt\u001b[0m                         Traceback (most recent call last)",
      "\u001b[1;32m<ipython-input-1-433113c09fb6>\u001b[0m in \u001b[0;36m<module>\u001b[1;34m\u001b[0m\n\u001b[0;32m     25\u001b[0m     \u001b[0mreq\u001b[0m \u001b[1;33m=\u001b[0m \u001b[0mrequests\u001b[0m\u001b[1;33m.\u001b[0m\u001b[0mpost\u001b[0m\u001b[1;33m(\u001b[0m\u001b[0mPower_BI_Endpoint\u001b[0m\u001b[1;33m,\u001b[0m \u001b[0mRows\u001b[0m\u001b[1;33m)\u001b[0m\u001b[1;33m\u001b[0m\u001b[1;33m\u001b[0m\u001b[0m\n\u001b[0;32m     26\u001b[0m \u001b[1;33m\u001b[0m\u001b[0m\n\u001b[1;32m---> 27\u001b[1;33m     \u001b[0msleep\u001b[0m\u001b[1;33m(\u001b[0m\u001b[1;36m1\u001b[0m\u001b[1;33m)\u001b[0m\u001b[1;33m\u001b[0m\u001b[1;33m\u001b[0m\u001b[0m\n\u001b[0m",
      "\u001b[1;31mKeyboardInterrupt\u001b[0m: "
     ]
    }
   ],
   "source": [
    "import requests\n",
    "import json\n",
    "from IPython.display import HTML\n",
    "from time import sleep\n",
    "from urllib.request import urlopen\n",
    "from datetime import datetime, timedelta\n",
    "import urllib.request as ur\n",
    "\n",
    "Power_BI_Endpoint = 'https://api.powerbi.com/beta/6ea7854f-91b0-4c10-aefd-68e8a507560f/datasets/fdeeba4b-3922-4c5f-9141-cbe1da6ae65f/rows?key=lSEiw72ceJ3tAM92VtMOseRAM5KDNstQKbn2lVumCE5V1WcPaxPvsZeMulyWHfpzOAYtt1idticc9ZEiIom%2BYg%3D%3D'\n",
    "\n",
    "#Repeat for ever\n",
    "while True:\n",
    "    \n",
    "    now = datetime.strftime(datetime.now(), \"%Y-%m-%dT%H:%M:%SZ\")\n",
    "    \n",
    "    BinanceResponse = requests.get('https://api.binance.com/api/v3/ticker/price?symbol=ETHUSDT').json()\n",
    "\n",
    "    BinanceConvert = json.dumps(BinanceResponse)\n",
    "    BinanceData = json.loads(BinanceConvert)\n",
    "    Binanceprice = float(BinanceData['price'])\n",
    "    Binancesymbol = BinanceData['symbol']\n",
    "    \n",
    "    Rows = '[{{ \"Timestamp\": \"{0}\", \"Price\": \"{1}\", \"Symbol\": \"{2}\" }}]'.format(now, Binanceprice, Binancesymbol)\n",
    "    \n",
    "    req = requests.post(Power_BI_Endpoint, Rows)\n",
    "    \n",
    "    sleep(1)"
   ]
  }
 ],
 "metadata": {
  "kernelspec": {
   "display_name": "Python 3",
   "language": "python",
   "name": "python3"
  },
  "language_info": {
   "codemirror_mode": {
    "name": "ipython",
    "version": 3
   },
   "file_extension": ".py",
   "mimetype": "text/x-python",
   "name": "python",
   "nbconvert_exporter": "python",
   "pygments_lexer": "ipython3",
   "version": "3.7.6"
  }
 },
 "nbformat": 4,
 "nbformat_minor": 4
}
